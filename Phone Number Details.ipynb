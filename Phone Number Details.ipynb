{
 "cells": [
  {
   "cell_type": "code",
   "execution_count": 1,
   "id": "7ae0591a",
   "metadata": {},
   "outputs": [
    {
     "name": "stdout",
     "output_type": "stream",
     "text": [
      "Defaulting to user installation because normal site-packages is not writeable\n",
      "Collecting phonenumbers\n",
      "  Obtaining dependency information for phonenumbers from https://files.pythonhosted.org/packages/93/48/6c3965f6c4f8614b1f8767b08d45cb68e91d83d87f55a89f201317539d53/phonenumbers-8.13.26-py2.py3-none-any.whl.metadata\n",
      "  Downloading phonenumbers-8.13.26-py2.py3-none-any.whl.metadata (11 kB)\n",
      "Downloading phonenumbers-8.13.26-py2.py3-none-any.whl (2.6 MB)\n",
      "   ---------------------------------------- 0.0/2.6 MB ? eta -:--:--\n",
      "   ---------------------------------------- 0.0/2.6 MB ? eta -:--:--\n",
      "   ---------------------------------------- 0.0/2.6 MB ? eta -:--:--\n",
      "   ---------------------------------------- 0.0/2.6 MB 445.2 kB/s eta 0:00:06\n",
      "   - -------------------------------------- 0.1/2.6 MB 660.6 kB/s eta 0:00:04\n",
      "   ------ --------------------------------- 0.4/2.6 MB 3.0 MB/s eta 0:00:01\n",
      "   --------------- ------------------------ 1.0/2.6 MB 4.8 MB/s eta 0:00:01\n",
      "   ------------------------ --------------- 1.6/2.6 MB 6.6 MB/s eta 0:00:01\n",
      "   ------------------------------- -------- 2.0/2.6 MB 7.3 MB/s eta 0:00:01\n",
      "   ---------------------------------------  2.6/2.6 MB 7.8 MB/s eta 0:00:01\n",
      "   ---------------------------------------- 2.6/2.6 MB 7.2 MB/s eta 0:00:00\n",
      "Installing collected packages: phonenumbers\n",
      "Successfully installed phonenumbers-8.13.26\n",
      "Note: you may need to restart the kernel to use updated packages.\n"
     ]
    }
   ],
   "source": [
    "pip install phonenumbers"
   ]
  },
  {
   "cell_type": "code",
   "execution_count": 5,
   "id": "6b1bdf37",
   "metadata": {},
   "outputs": [
    {
     "name": "stdout",
     "output_type": "stream",
     "text": [
      "enter the no. with +__+91-6261765168\n",
      "Country Code: 91 National Number: 6261765168\n",
      "('Asia/Calcutta',)\n",
      "Reliance Jio\n",
      "India\n"
     ]
    }
   ],
   "source": [
    "import phonenumbers\n",
    "from phonenumbers import timezone,geocoder,carrier\n",
    "mobile=input(\"enter the no. with +__\")\n",
    "phone=phonenumbers.parse(mobile)\n",
    "time=timezone.time_zones_for_number(phone)#it gives timezone\n",
    "carrier=carrier.name_for_number(phone,\"en\")#carrier is used to find operator(company)\n",
    "reg=geocoder.description_for_number(phone,\"en\")#geocoder is used for location\n",
    "print(phone)\n",
    "print(time)\n",
    "print(carrier)\n",
    "print(reg)\n",
    "#en- this used to get output in english"
   ]
  },
  {
   "cell_type": "code",
   "execution_count": null,
   "id": "c917e0dc",
   "metadata": {},
   "outputs": [],
   "source": []
  }
 ],
 "metadata": {
  "kernelspec": {
   "display_name": "Python 3 (ipykernel)",
   "language": "python",
   "name": "python3"
  },
  "language_info": {
   "codemirror_mode": {
    "name": "ipython",
    "version": 3
   },
   "file_extension": ".py",
   "mimetype": "text/x-python",
   "name": "python",
   "nbconvert_exporter": "python",
   "pygments_lexer": "ipython3",
   "version": "3.11.5"
  }
 },
 "nbformat": 4,
 "nbformat_minor": 5
}
